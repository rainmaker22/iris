{
  "nbformat": 4,
  "nbformat_minor": 0,
  "metadata": {
    "colab": {
      "name": "CNNdesktop.ipynb",
      "version": "0.3.2",
      "provenance": [],
      "private_outputs": true,
      "collapsed_sections": [],
      "toc_visible": true,
      "machine_shape": "hm",
      "include_colab_link": true
    },
    "kernelspec": {
      "name": "python3",
      "display_name": "Python 3"
    },
    "accelerator": "GPU"
  },
  "cells": [
    {
      "cell_type": "markdown",
      "metadata": {
        "id": "view-in-github",
        "colab_type": "text"
      },
      "source": [
        "<a href=\"https://colab.research.google.com/github/rainmaker22/iris/blob/master/CNN(SOHO_98%25).ipynb\" target=\"_parent\"><img src=\"https://colab.research.google.com/assets/colab-badge.svg\" alt=\"Open In Colab\"/></a>"
      ]
    },
    {
      "cell_type": "markdown",
      "metadata": {
        "colab_type": "text",
        "id": "rX8mhOLljYeM"
      },
      "source": [
        "##### Copyright 2018 The TensorFlow Authors.\n",
        "\n",
        "Licensed under the Apache License, Version 2.0 (the \"License\");"
      ]
    },
    {
      "cell_type": "code",
      "metadata": {
        "cellView": "form",
        "colab_type": "code",
        "id": "BZSlp3DAjdYf",
        "colab": {}
      },
      "source": [
        "#@title Licensed under the Apache License, Version 2.0 (the \"License\");\n",
        "# you may not use this file except in compliance with the License.\n",
        "# You may obtain a copy of the License at\n",
        "#\n",
        "# https://www.apache.org/licenses/LICENSE-2.0\n",
        "#\n",
        "# Unless required by applicable law or agreed to in writing, software\n",
        "# distributed under the License is distributed on an \"AS IS\" BASIS,\n",
        "# WITHOUT WARRANTIES OR CONDITIONS OF ANY KIND, either express or implied.\n",
        "# See the License for the specific language governing permissions and\n",
        "# limitations under the License."
      ],
      "execution_count": 0,
      "outputs": []
    },
    {
      "cell_type": "markdown",
      "metadata": {
        "colab_type": "text",
        "id": "3wF5wszaj97Y"
      },
      "source": [
        "# Get Started with TensorFlow"
      ]
    },
    {
      "cell_type": "code",
      "metadata": {
        "id": "5e-B-RPGa0D3",
        "colab_type": "code",
        "colab": {}
      },
      "source": [
        "!unzip '*.zip'"
      ],
      "execution_count": 0,
      "outputs": []
    },
    {
      "cell_type": "markdown",
      "metadata": {
        "colab_type": "text",
        "id": "DUNzJc4jTj6G"
      },
      "source": [
        "<table class=\"tfo-notebook-buttons\" align=\"left\">\n",
        "  <td>\n",
        "    <a target=\"_blank\" href=\"https://www.tensorflow.org/tutorials/\"><img src=\"https://www.tensorflow.org/images/tf_logo_32px.png\" />View on TensorFlow.org</a>\n",
        "  </td>\n",
        "  <td>\n",
        "    <a target=\"_blank\" href=\"https://colab.research.google.com/github/tensorflow/docs/blob/master/site/en/tutorials/_index.ipynb\"><img src=\"https://www.tensorflow.org/images/colab_logo_32px.png\" />Run in Google Colab</a>\n",
        "  </td>\n",
        "  <td>\n",
        "    <a target=\"_blank\" href=\"https://github.com/tensorflow/docs/blob/master/site/en/tutorials/_index.ipynb\"><img src=\"https://www.tensorflow.org/images/GitHub-Mark-32px.png\" />View source on GitHub</a>\n",
        "  </td>\n",
        "</table>"
      ]
    },
    {
      "cell_type": "markdown",
      "metadata": {
        "colab_type": "text",
        "id": "hiH7AC-NTniF"
      },
      "source": [
        "This is a [Google Colaboratory](https://colab.research.google.com/notebooks/welcome.ipynb) notebook file. Python programs are run directly in the browser—a great way to learn and use TensorFlow. To run the Colab notebook:\n",
        "\n",
        "1. Connect to a Python runtime: At the top-right of the menu bar, select *CONNECT*.\n",
        "2. Run all the notebook code cells: Select *Runtime* > *Run all*.\n",
        "\n",
        "For more examples and guides (including details for this program), see [Get Started with TensorFlow](https://www.tensorflow.org/get_started/).\n",
        "\n",
        "Let's get started, import the TensorFlow library into your program:"
      ]
    },
    {
      "cell_type": "code",
      "metadata": {
        "colab_type": "code",
        "id": "0trJmd6DjqBZ",
        "colab": {}
      },
      "source": [
        "from __future__ import absolute_import, division, print_function, unicode_literals\n",
        "import tensorflow as tf\n",
        "from tensorflow import keras\n",
        "import numpy as np\n",
        "import scipy.io\n",
        "from scipy import sparse\n",
        "from keras import backend as K \n",
        "K.set_image_dim_ordering('tf')"
      ],
      "execution_count": 0,
      "outputs": []
    },
    {
      "cell_type": "code",
      "metadata": {
        "id": "f7TIsKlQQ1ON",
        "colab_type": "code",
        "colab": {}
      },
      "source": [
        ""
      ],
      "execution_count": 0,
      "outputs": []
    },
    {
      "cell_type": "markdown",
      "metadata": {
        "colab_type": "text",
        "id": "7NAbSZiaoJ4z"
      },
      "source": [
        "Load and prepare the [MNIST](http://yann.lecun.com/exdb/mnist/) dataset. Convert the samples from integers to floating-point numbers:"
      ]
    },
    {
      "cell_type": "code",
      "metadata": {
        "id": "mFtkY73DhxcR",
        "colab_type": "code",
        "colab": {}
      },
      "source": [
        "# folder = [81,82,83,85,86,88,89,90,92,93,94,97,98,99]\n",
        "# level = 7   131072\n",
        "# folder = [1,2,3,4,5,6,7,8,9,10,11,12,13]\n",
        "# folder = [1,3,5,6,7,8,9,11,12,13,25,29,32,37,42,49,51,54,55,57,60,61,63,64,66,77,85,92,93,94,97,100]\n",
        "# folder = [1,3,5,6,7,8,9,11,12,13,14,16,25,29,32,37,42,44,47,49,51,54,55,57,60,61,63,64,66,68,69,70,71,72,73,74,76,77,78,79,81,82,83,85,92,93,94,97,98,99,100]\n",
        "# folder = [1,3,5,6,7,8,9,11,12,13,14,16,25,29,32,37,42,44,47,49,51,54,55,57,60,61,63,64,66,68,69,70,71,72,73,74,76,77,78,79,81,82,83,85,90,92,93,94,97,98,99,100,101,105,106,110,115,116,117,119,121,123,124,128,129,131,134,135]\n",
        "folder = [1,3,5,6,9,11,12,13,14,16,29,32,42,47,49,50,54,57,61,66,68,69,70,71,72,73,76,77,78,79,82,83,85,90,92,93,94,97,98,99,100,101,105,106,110,115,116,117,119,121,123,124,128,129,131,134,136,137,139,140,142,143,144,150,151,152,154,155,157,158,159,160,161,162,166,167,169,170,171,172,173,174,175,179,180,181,182,184,185,186,187,189,191,192,194,195,197,198,199,202,205,206,207,208,211,213,214,215,216,219,220,221]\n",
        "# x_train = np.empty([1,2,512,1])\n",
        "# x_test = np.empty([1,2,512,1])\n",
        "x_train = np.empty([1,8192,1])\n",
        "x_vali = np.empty([1,8192,1])\n",
        "# x_train = sparse.csr_matrix(x_train)\n",
        "x_test = np.empty([1,8192,1])\n",
        "# x_test = sparse.csr_matrix(x_test)\n",
        "# x_train = np.expand_dims(x_train,axis = 1)\n",
        "# print(x_train.shape)\n",
        "# x_train = sparse.csr_matrix.reshape(x_train,(1,1,131072))\n",
        "# x_test = sparse.csr_matrix.reshape(x_test,(1,1,131072))\n",
        "# x_train[np.newaxis,:]\n",
        "print(x_train.shape)\n",
        "for i in folder:\n",
        "#   print(i)\n",
        "  for j in range(6,10):\n",
        "    if(j == 10):\n",
        "      f = scipy.io.loadmat(str(i)+'/'+str(i)+'_'+str(j)+'.mat')\n",
        "    else:\n",
        "      f = scipy.io.loadmat(str(i)+'/'+str(i)+'_0'+str(j)+'.mat')\n",
        "    data = f.get('coeffs_data') \n",
        "    data = np.array(data)\n",
        "#     data = data[:,:512]\n",
        "#     data = sparse.csr_matrix(data)\n",
        "#     print(data.shape)\n",
        "    data = np.reshape(data,(1,8192,1))\n",
        "#     data = tf.expand_dims(data, axis=-1)\n",
        "#     print(data.shape)\n",
        "    x_train = np.concatenate([x_train,data],0)\n",
        "  for k in range(9,10):\n",
        "    if(k == 10):\n",
        "      f = scipy.io.loadmat(str(i)+'/'+str(i)+'_'+str(k)+'.mat')\n",
        "    else:\n",
        "      f = scipy.io.loadmat(str(i)+'/'+str(i)+'_0'+str(k)+'.mat')\n",
        "    data = f.get('coeffs_data') \n",
        "    data = np.array(data)\n",
        "#     data = sparse.csr_matrix(data)\n",
        "#     print(data.shape)\n",
        "#     data = data[:,:512]\n",
        "    data = np.reshape(data,(1,8192,1))\n",
        "#     data = tf.expand_dims(data, axis=-1)\n",
        "#     print(data.shape)\n",
        "    x_vali = np.concatenate([x_test,data],0)\n",
        "  for k in range(10,11):\n",
        "    if(k == 10):\n",
        "      f = scipy.io.loadmat(str(i)+'/'+str(i)+'_'+str(k)+'.mat')\n",
        "    else:\n",
        "      f = scipy.io.loadmat(str(i)+'/'+str(i)+'_0'+str(k)+'.mat')\n",
        "    data = f.get('coeffs_data') \n",
        "    data = np.array(data)\n",
        "#     data = sparse.csr_matrix(data)\n",
        "#     print(data.shape)\n",
        "#     data = data[:,:512]\n",
        "    data = np.reshape(data,(1,8192,1))\n",
        "#     data = tf.expand_dims(data, axis=-1)\n",
        "#     print(data.shape)\n",
        "    x_test = np.concatenate([x_test,data],0)\n",
        "# x = Input(shape(42,131072)，sparse = True)\n",
        "x_train = x_train[1:,:,:]\n",
        "x_vali = x_vali[1:,:,:]\n",
        "x_test = x_test[1:,:,:]\n",
        "# x_train = x_train.reshape((2,512,1))\n",
        "# x_test = x_test.reshape((2,512,1))\n",
        "x_train = np.around(x_train,decimals = 1)\n",
        "x_vali = np.around(x_vali,decimals = 1)\n",
        "x_test = np.around(x_test,decimals = 1)\n",
        "\n",
        "# x_sum = np.vstack((x_train,x_test))\n",
        "# x_max = x_sum.max()\n",
        "# x_min = x_sum.min()\n",
        "# print(x_max)\n",
        "# print(x_min)\n",
        "# x_train = 1*(x_train-x_min)/(x_max-x_min)\n",
        "# x_test = 1*(x_test-x_min)/(x_max-x_min)\n",
        "\n",
        "# x_train = sparse.csr_matrix(x_train)\n",
        "# x_test = sparse.csr_matrix(x_test)\n",
        "print(x_train.shape)\n",
        "print(x_test.shape)\n",
        "# y_train = np.eye(14)\n",
        "# y_test = np.eye(14)\n",
        "# a = 3*np.ones(14).astype(np.int64)\n",
        "# b = 2*np.ones(14).astype(np.int64)\n",
        "# y_train = y_train.repeat(a,axis = 0)\n",
        "# y_test = y_test.repeat(b,axis = 0)  \n",
        "a = 4*np.ones(112).astype(np.int64)\n",
        "b = 1*np.ones(112).astype(np.int64)\n",
        "y_train = np.arange(112).reshape(112,1)\n",
        "y_train = y_train.repeat(a,axis = 0)\n",
        "y_test = np.arange(112).reshape(112,1)\n",
        "y_test = y_test.repeat(b,axis = 0)\n",
        "# y_train = tf.expand_dims(y_train, axis=-1)\n",
        "# y_test = tf.expand_dims(y_test, axis=-1)\n",
        "print(y_train.shape)\n",
        "print(y_test.shape)"
      ],
      "execution_count": 0,
      "outputs": []
    },
    {
      "cell_type": "code",
      "metadata": {
        "id": "sFX0vkyAQ3Ki",
        "colab_type": "code",
        "colab": {}
      },
      "source": [
        ""
      ],
      "execution_count": 0,
      "outputs": []
    },
    {
      "cell_type": "markdown",
      "metadata": {
        "colab_type": "text",
        "id": "BPZ68wASog_I"
      },
      "source": [
        "Build the `tf.keras` model by stacking layers. Select an optimizer and loss function used for training:"
      ]
    },
    {
      "cell_type": "code",
      "metadata": {
        "colab_type": "code",
        "id": "h3IKyzTCDNGo",
        "colab": {}
      },
      "source": [
        "inputs = keras.Input(shape = (8192,1))\n",
        "# x = keras.layers.Flatten()(inputs)\n",
        "# inputs = np.reshape(1,8192)\n",
        "# print(inputs.shape)\n",
        "# x = keras.layers.Embedding()(inputs)\n",
        "x = keras.layers.Conv1D(filters = 64,kernel_size = 4,strides = 1, activation = 'relu')(inputs)\n",
        "x = keras.layers.BatchNormalization(1)(x)\n",
        "x = keras.layers.MaxPooling1D()(x)\n",
        "x = keras.layers.Dropout(0.5)(x)\n",
        "\n",
        "print(x.shape)\n",
        "x = keras.layers.Conv1D(filters = 128,kernel_size = 4,strides = 1, activation = 'relu')(x)\n",
        "# print(x.shape)\n",
        "x = keras.layers.BatchNormalization(1)(x)\n",
        "x = keras.layers.MaxPooling1D()(x)\n",
        "x = keras.layers.Dropout(0.5)(x)\n",
        "\n",
        "print(x.shape)\n",
        "x = keras.layers.Conv1D(filters = 258,kernel_size = 4,strides = 1, activation = 'relu')(x)\n",
        "# x = keras.layers.BatchNormalization(1)(x)\n",
        "x = keras.layers.MaxPooling1D(4)(x)\n",
        "x = keras.layers.Dropout(0.5)(x)\n",
        "\n",
        "x = keras.layers.Conv1D(filters = 258,kernel_size = 4,strides = 1, activation = 'relu')(x)\n",
        "# x = keras.layers.GlobalAveragePooling1D()(x)\n",
        "x = keras.layers.MaxPooling1D()(x)\n",
        "# x = keras.layers.BatchNormalization(1)(x)\n",
        "print(x.shape)\n",
        "x = keras.layers.Dropout(0.5)(x)\n",
        "x = keras.layers.Flatten()(x)\n",
        "print(x.shape)\n",
        "x = keras.layers.Dense(512,activation='relu')(x)\n",
        "# x = keras.layers.BatchNormalization()(x)\n",
        "x = keras.layers.Dropout(0.5)(x)\n",
        "x = keras.layers.Dense(512,activation='relu')(x)\n",
        "# x = keras.layers.BatchNormalization()(x)\n",
        "x = keras.layers.Dropout(0.5)(x)\n",
        "predictions = keras.layers.Dense(112, activation='softmax')(x)\n",
        "# model = tf.keras.models.Sequential([\n",
        "  \n",
        "# #   tf.keras.layers.Flatten(input_shape=(131072,)),\n",
        "# #   tf.keras.layers.Input(shape = (8192,)),\n",
        "#   tf.keras.layers.Conv1D(filters = 100, kernel_size = 1, strides = 1, activation = 'relu',input_shape=(8192,1)),\n",
        "#   tf.keras.layers.Flatten(),\n",
        "# #   tf.keras.layers.Dense(1024, activation=tf.nn.relu),\n",
        "# #   tf.keras.layers.Dropout(0.5),\n",
        "#   tf.keras.layers.Dense(512, activation=tf.nn.relu),\n",
        "#   tf.keras.layers.Dropout(0.5),\n",
        "#   tf.keras.layers.Dense(256, activation=tf.nn.relu),\n",
        "#   tf.keras.layers.Dropout(0.5),\n",
        "#   tf.keras.layers.Dense(33, activation=tf.nn.softmax)\n",
        "# ])\n",
        "model = keras.models.Model(inputs = inputs,outputs = predictions)\n",
        "# adam = keras.optimizers.Adam(lr=0.001)\n",
        "# model.compile(loss='mean_squared_error', optimizer=sgd)\n",
        "model.compile(optimizer='adam',\n",
        "# model.compile(optimizer=adam,\n",
        "              loss='sparse_categorical_crossentropy',\n",
        "#               loss='mean_squared_error',\n",
        "              metrics=['accuracy'])"
      ],
      "execution_count": 0,
      "outputs": []
    },
    {
      "cell_type": "markdown",
      "metadata": {
        "colab_type": "text",
        "id": "ix4mEL65on-w"
      },
      "source": [
        "Train and evaluate model:"
      ]
    },
    {
      "cell_type": "markdown",
      "metadata": {
        "id": "aDxidNEfABts",
        "colab_type": "text"
      },
      "source": [
        ""
      ]
    },
    {
      "cell_type": "code",
      "metadata": {
        "colab_type": "code",
        "id": "F7dTAzgHDUh7",
        "colab": {}
      },
      "source": [
        "for i in range(1,50):\n",
        "   \n",
        "  model.fit(x_train, y_train, epochs= 5)\n",
        "  score = model.evaluate(x_vali, y_test)\n",
        "#   print(score[1])\n",
        "#   print(score)\n",
        "  if(score[1]>0.86):\n",
        "    print(score)"
      ],
      "execution_count": 0,
      "outputs": []
    },
    {
      "cell_type": "code",
      "metadata": {
        "id": "TTs1FFhmTY88",
        "colab_type": "code",
        "colab": {}
      },
      "source": [
        "model.summary()\n",
        "score = model.evaluate(x_test, y_test,batch_size=128, verbose=1)\n",
        "print(score)"
      ],
      "execution_count": 0,
      "outputs": []
    },
    {
      "cell_type": "code",
      "metadata": {
        "id": "UxONVQuUQ6Ys",
        "colab_type": "code",
        "colab": {}
      },
      "source": [
        "model.fit(x_train, y_train, epochs= 5)\n"
      ],
      "execution_count": 0,
      "outputs": []
    }
  ]
}